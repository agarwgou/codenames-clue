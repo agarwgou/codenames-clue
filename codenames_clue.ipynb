{
 "cells": [
  {
   "cell_type": "code",
   "execution_count": null,
   "id": "theoretical-farmer",
   "metadata": {
    "scrolled": true
   },
   "outputs": [],
   "source": [
    "with open(\"./glove.42B.300d.txt\", 'r') as glove:\n",
    "    lines = [next(glove) for x in range(100)]\n",
    "[(l.split(\" \")[0], \", \".join(l.split(\" \")[1:20]) + \"...\") for l in lines[30:33]]"
   ]
  },
  {
   "cell_type": "code",
   "execution_count": null,
   "id": "portable-cause",
   "metadata": {},
   "outputs": [],
   "source": [
    "#with open(\"glove.42B.300d.txt\") as myfile:\n",
    "#    head = [next(myfile) for x in range(3)]\n",
    "#print(head)"
   ]
  },
  {
   "cell_type": "code",
   "execution_count": 1,
   "id": "consistent-cross",
   "metadata": {},
   "outputs": [],
   "source": [
    "import numpy as np\n",
    "import pandas as pd\n",
    "from scipy import spatial"
   ]
  },
  {
   "cell_type": "code",
   "execution_count": 2,
   "id": "corresponding-douglas",
   "metadata": {},
   "outputs": [],
   "source": [
    "embeddings = {}\n",
    "with open(\"./top_50000.txt\", 'r') as f:\n",
    "    for line in f:\n",
    "        values = line.split()\n",
    "        word = values[0]\n",
    "        vector = np.asarray(values[1:], \"float32\")\n",
    "        embeddings[word] = vector"
   ]
  },
  {
   "cell_type": "code",
   "execution_count": 3,
   "id": "threaded-debut",
   "metadata": {},
   "outputs": [
    {
     "data": {
      "text/plain": [
       "[('magic',\n",
       "  'magical, spells, wizard, spell, trick, magician, enchanted, mystical, wonder...'),\n",
       " ('sport',\n",
       "  'sports, sporting, racing, football, soccer, rugby, cycling, tennis, golf...'),\n",
       " ('scuba',\n",
       "  'diving, dive, snorkeling, divers, diver, snorkel, kayaking, snorkelling, windsurfing...'),\n",
       " ('sock',\n",
       "  'socks, yarn, shoe, knit, knitted, knitting, fetish, stocking, toe...')]"
      ]
     },
     "execution_count": 3,
     "metadata": {},
     "output_type": "execute_result"
    }
   ],
   "source": [
    "def distance(word, reference):\n",
    "    return spatial.distance.cosine(embeddings[word], embeddings[reference])\n",
    "\n",
    "def closest_words(reference):\n",
    "    return sorted(embeddings.keys(), key=lambda w: distance(w, reference))\n",
    "\n",
    "[(w, \", \".join(closest_words(w)[1:10]) + \"...\") for w in [\"magic\", \"sport\", \"scuba\", \"sock\"]]"
   ]
  },
  {
   "cell_type": "code",
   "execution_count": 4,
   "id": "bulgarian-manchester",
   "metadata": {},
   "outputs": [],
   "source": [
    "def goodness(word, answers, bad):\n",
    "    if word in answers + bad: return -999\n",
    "    return sum([distance(word, b) for b in bad]) - 4.0 * sum([distance(word, a) for a in answers])\n",
    "\n",
    "def minimax(word, answers, bad):\n",
    "    if word in answers + bad: return -999\n",
    "    return min([distance(word, b) for b in bad]) - max([distance(word, a) for a in answers])\n",
    "\n",
    "def candidates(answers, bad, size=100):\n",
    "    best = sorted(embeddings.keys(), key=lambda w: -1 * goodness(w, answers, bad))\n",
    "    res = [(str(i + 1), \"{0:.2f}\".format(minimax(w, answers, bad)), w) for i, w in enumerate(sorted(best[:250], key=lambda w: -1 * minimax(w, answers, bad))[:size])]\n",
    "    return [(\". \".join([c[0], c[2]]) + \" (\" + c[1] + \")\") for c in res]"
   ]
  },
  {
   "cell_type": "code",
   "execution_count": null,
   "id": "terminal-fiction",
   "metadata": {},
   "outputs": [],
   "source": [
    "import pandas as pd\n",
    "import itertools"
   ]
  },
  {
   "cell_type": "code",
   "execution_count": null,
   "id": "precise-encounter",
   "metadata": {},
   "outputs": [],
   "source": [
    "import pandas as pd\n",
    "import itertools\n",
    "from itertools import zip_longest\n",
    "\n",
    "def grouper(n, iterable, fillvalue=None):\n",
    "    args = [iter(iterable)] * n\n",
    "    return zip_longest(fillvalue=fillvalue, *args)\n",
    "\n",
    "from IPython.display import HTML\n",
    "\n",
    "def tabulate(data):\n",
    "    data = list(grouper(10, data))\n",
    "    return HTML(pd.DataFrame(data).to_html(index=False, header=False))"
   ]
  },
  {
   "cell_type": "code",
   "execution_count": 5,
   "id": "boolean-assembly",
   "metadata": {},
   "outputs": [],
   "source": [
    "answers = [\"cow\", \"dog\", \"horse\"]\n",
    "bad = [\"fall\", \"witch\", \"note\", \"cat\", \"bear\", \"ambulance\"]\n",
    "\n",
    "#tabulate(candidates(answers, bad))"
   ]
  },
  {
   "cell_type": "code",
   "execution_count": 6,
   "id": "wireless-bandwidth",
   "metadata": {},
   "outputs": [
    {
     "data": {
      "text/plain": [
       "['1. cattle (0.13)',\n",
       " '2. bridle (0.12)',\n",
       " '3. horses (0.12)',\n",
       " '4. beef (0.10)',\n",
       " '5. corral (0.10)',\n",
       " '6. stables (0.10)',\n",
       " '7. angus (0.09)',\n",
       " '8. roping (0.09)',\n",
       " '9. livestock (0.09)',\n",
       " '10. donkeys (0.08)',\n",
       " '11. stallion (0.08)',\n",
       " '12. trotter (0.08)',\n",
       " '13. gelding (0.08)',\n",
       " '14. foal (0.07)',\n",
       " '15. ponies (0.07)',\n",
       " '16. dressage (0.07)',\n",
       " '17. bred (0.07)',\n",
       " '18. herding (0.07)',\n",
       " '19. alpaca (0.06)',\n",
       " '20. equine (0.06)',\n",
       " '21. pony (0.06)',\n",
       " '22. hog (0.06)',\n",
       " '23. hoof (0.06)',\n",
       " '24. bull (0.06)',\n",
       " '25. goat (0.06)',\n",
       " '26. stallions (0.06)',\n",
       " '27. paddock (0.06)',\n",
       " '28. heifer (0.05)',\n",
       " '29. goats (0.05)',\n",
       " '30. jockey (0.05)',\n",
       " '31. equestrian (0.05)',\n",
       " '32. saddles (0.05)',\n",
       " '33. rooster (0.05)',\n",
       " '34. cows (0.05)',\n",
       " '35. dairy (0.05)',\n",
       " '36. reins (0.05)',\n",
       " '37. petting (0.05)',\n",
       " '38. mare (0.05)',\n",
       " '39. foals (0.04)',\n",
       " '40. rodeo (0.04)',\n",
       " '41. pigs (0.04)',\n",
       " '42. stall (0.04)',\n",
       " '43. pasture (0.04)',\n",
       " '44. thoroughbred (0.04)',\n",
       " '45. barns (0.04)',\n",
       " '46. barn (0.04)',\n",
       " '47. farms (0.04)',\n",
       " '48. breeding (0.03)',\n",
       " '49. donkey (0.03)',\n",
       " '50. galloping (0.03)',\n",
       " '51. bulls (0.03)',\n",
       " '52. meat (0.03)',\n",
       " '53. manure (0.03)',\n",
       " '54. lamb (0.03)',\n",
       " '55. saddle (0.03)',\n",
       " '56. grass (0.03)',\n",
       " '57. sire (0.03)',\n",
       " '58. ranch (0.03)',\n",
       " '59. hooves (0.02)',\n",
       " '60. swine (0.02)',\n",
       " '61. bovine (0.02)',\n",
       " '62. hay (0.02)',\n",
       " '63. herd (0.02)',\n",
       " '64. farm (0.02)',\n",
       " '65. milking (0.02)',\n",
       " '66. pork (0.02)',\n",
       " '67. calf (0.02)',\n",
       " '68. ox (0.02)',\n",
       " '69. yearling (0.02)',\n",
       " '70. poultry (0.02)',\n",
       " '71. sheep (0.02)',\n",
       " '72. milk (0.02)',\n",
       " '73. steer (0.02)',\n",
       " '74. trot (0.02)',\n",
       " '75. pig (0.02)',\n",
       " '76. bone (0.02)',\n",
       " '77. wagon (0.01)',\n",
       " '78. colt (0.01)',\n",
       " '79. derby (0.01)',\n",
       " '80. farmer (0.01)',\n",
       " '81. riding (0.01)',\n",
       " '82. kangaroo (0.01)',\n",
       " '83. yak (0.01)',\n",
       " '84. stud (0.00)',\n",
       " '85. horseback (0.00)',\n",
       " '86. dude (-0.00)',\n",
       " '87. calves (-0.00)',\n",
       " '88. bucking (-0.01)',\n",
       " '89. chickens (-0.01)',\n",
       " '90. feed (-0.01)',\n",
       " '91. slaughter (-0.01)',\n",
       " '92. rides (-0.01)',\n",
       " '93. rider (-0.01)',\n",
       " '94. filly (-0.01)',\n",
       " '95. carriage (-0.01)',\n",
       " '96. conformation (-0.01)',\n",
       " '97. hogs (-0.01)',\n",
       " '98. cowboy (-0.02)',\n",
       " '99. lucky (-0.02)',\n",
       " '100. camel (-0.02)']"
      ]
     },
     "execution_count": 6,
     "metadata": {},
     "output_type": "execute_result"
    }
   ],
   "source": [
    "candidates(answers, bad)"
   ]
  },
  {
   "cell_type": "code",
   "execution_count": null,
   "id": "theoretical-design",
   "metadata": {},
   "outputs": [],
   "source": []
  }
 ],
 "metadata": {
  "kernelspec": {
   "display_name": "Python 3",
   "language": "python",
   "name": "python3"
  },
  "language_info": {
   "codemirror_mode": {
    "name": "ipython",
    "version": 3
   },
   "file_extension": ".py",
   "mimetype": "text/x-python",
   "name": "python",
   "nbconvert_exporter": "python",
   "pygments_lexer": "ipython3",
   "version": "3.8.5"
  }
 },
 "nbformat": 4,
 "nbformat_minor": 5
}
